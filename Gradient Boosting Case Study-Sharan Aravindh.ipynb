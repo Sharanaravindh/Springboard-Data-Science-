{
 "cells": [
  {
   "cell_type": "code",
   "execution_count": 1,
   "metadata": {
    "colab": {},
    "colab_type": "code",
    "id": "DX307zY7Rz8L"
   },
   "outputs": [],
   "source": [
    "import pandas as pd\n",
    "import numpy as np\n",
    "import scipy\n",
    "import matplotlib.pyplot as plt\n",
    "from sklearn import tree\n",
    "from IPython.display import Image\n",
    "%matplotlib inline\n",
    "from sklearn import preprocessing\n",
    "from sklearn.ensemble import GradientBoostingClassifier\n",
    "from sklearn.metrics import classification_report, confusion_matrix, roc_curve, auc"
   ]
  },
  {
   "cell_type": "markdown",
   "metadata": {
    "colab_type": "text",
    "id": "IXO1tobzRz8R",
    "run_control": {
     "frozen": false,
     "read_only": false
    }
   },
   "source": [
    "### Gradient boosting\n",
    "\n",
    "You may recall that we last encountered gradients when discussing the gradient descent algorithm in the context of fitting linear regression models.  For a particular regression model with n parameters, an n+1 dimensional space existed defined by all the parameters plus the cost/loss function to minimize.  The combination of parameters and loss function define a surface within the space.  The regression model is fitted by moving down the steepest 'downhill' gradient until we reach the lowest point of the surface, where all possible gradients are 'uphill.'  The final model is made up of the parameter estimates that define that location on the surface.\n",
    "\n",
    "Throughout all iterations of the gradient descent algorithm for linear regression, one thing remains constant: The underlying data used to estimate the parameters and calculate the loss function never changes.  In gradient boosting, however, the underlying data do change.  \n",
    "\n",
    "Each time we run a decision tree, we extract the residuals.  Then we run a new decision tree, using those residuals as the outcome to be predicted.  After reaching a stopping point, we add together the predicted values from all of the decision trees to create the final gradient boosted prediction.\n",
    "\n",
    "Gradient boosting can work on any combination of loss function and model type, as long as we can calculate the derivatives of the loss function with respect to the model parameters.  Most often, however, gradient boosting uses decision trees, and minimizes either the  residual (regression trees) or the negative log-likelihood (classification trees).  \n",
    "\n",
    "Let’s go through a simple regression example using Decision Trees as the base predictors (of course Gradient Boosting also works great with regression tasks). This is called Gradient Tree Boosting, or Gradient Boosted Regression Trees. First, let’s fit a `DecisionTreeRegressor` to the training set."
   ]
  },
  {
   "cell_type": "code",
   "execution_count": 2,
   "metadata": {
    "colab": {},
    "colab_type": "code",
    "id": "gGreKgygRz8R"
   },
   "outputs": [],
   "source": [
    "np.random.seed(42)\n",
    "X = np.random.rand(100, 1) - 0.5\n",
    "y = 3*X[:, 0]**2 + 0.05 * np.random.randn(100)"
   ]
  },
  {
   "cell_type": "code",
   "execution_count": 3,
   "metadata": {
    "colab": {},
    "colab_type": "code",
    "id": "a48uXlSBRz8U",
    "outputId": "f077e2e2-ca97-4aae-987a-176736cc6f1f"
   },
   "outputs": [
    {
     "data": {
      "text/html": [
       "<style>#sk-container-id-1 {color: black;background-color: white;}#sk-container-id-1 pre{padding: 0;}#sk-container-id-1 div.sk-toggleable {background-color: white;}#sk-container-id-1 label.sk-toggleable__label {cursor: pointer;display: block;width: 100%;margin-bottom: 0;padding: 0.3em;box-sizing: border-box;text-align: center;}#sk-container-id-1 label.sk-toggleable__label-arrow:before {content: \"▸\";float: left;margin-right: 0.25em;color: #696969;}#sk-container-id-1 label.sk-toggleable__label-arrow:hover:before {color: black;}#sk-container-id-1 div.sk-estimator:hover label.sk-toggleable__label-arrow:before {color: black;}#sk-container-id-1 div.sk-toggleable__content {max-height: 0;max-width: 0;overflow: hidden;text-align: left;background-color: #f0f8ff;}#sk-container-id-1 div.sk-toggleable__content pre {margin: 0.2em;color: black;border-radius: 0.25em;background-color: #f0f8ff;}#sk-container-id-1 input.sk-toggleable__control:checked~div.sk-toggleable__content {max-height: 200px;max-width: 100%;overflow: auto;}#sk-container-id-1 input.sk-toggleable__control:checked~label.sk-toggleable__label-arrow:before {content: \"▾\";}#sk-container-id-1 div.sk-estimator input.sk-toggleable__control:checked~label.sk-toggleable__label {background-color: #d4ebff;}#sk-container-id-1 div.sk-label input.sk-toggleable__control:checked~label.sk-toggleable__label {background-color: #d4ebff;}#sk-container-id-1 input.sk-hidden--visually {border: 0;clip: rect(1px 1px 1px 1px);clip: rect(1px, 1px, 1px, 1px);height: 1px;margin: -1px;overflow: hidden;padding: 0;position: absolute;width: 1px;}#sk-container-id-1 div.sk-estimator {font-family: monospace;background-color: #f0f8ff;border: 1px dotted black;border-radius: 0.25em;box-sizing: border-box;margin-bottom: 0.5em;}#sk-container-id-1 div.sk-estimator:hover {background-color: #d4ebff;}#sk-container-id-1 div.sk-parallel-item::after {content: \"\";width: 100%;border-bottom: 1px solid gray;flex-grow: 1;}#sk-container-id-1 div.sk-label:hover label.sk-toggleable__label {background-color: #d4ebff;}#sk-container-id-1 div.sk-serial::before {content: \"\";position: absolute;border-left: 1px solid gray;box-sizing: border-box;top: 0;bottom: 0;left: 50%;z-index: 0;}#sk-container-id-1 div.sk-serial {display: flex;flex-direction: column;align-items: center;background-color: white;padding-right: 0.2em;padding-left: 0.2em;position: relative;}#sk-container-id-1 div.sk-item {position: relative;z-index: 1;}#sk-container-id-1 div.sk-parallel {display: flex;align-items: stretch;justify-content: center;background-color: white;position: relative;}#sk-container-id-1 div.sk-item::before, #sk-container-id-1 div.sk-parallel-item::before {content: \"\";position: absolute;border-left: 1px solid gray;box-sizing: border-box;top: 0;bottom: 0;left: 50%;z-index: -1;}#sk-container-id-1 div.sk-parallel-item {display: flex;flex-direction: column;z-index: 1;position: relative;background-color: white;}#sk-container-id-1 div.sk-parallel-item:first-child::after {align-self: flex-end;width: 50%;}#sk-container-id-1 div.sk-parallel-item:last-child::after {align-self: flex-start;width: 50%;}#sk-container-id-1 div.sk-parallel-item:only-child::after {width: 0;}#sk-container-id-1 div.sk-dashed-wrapped {border: 1px dashed gray;margin: 0 0.4em 0.5em 0.4em;box-sizing: border-box;padding-bottom: 0.4em;background-color: white;}#sk-container-id-1 div.sk-label label {font-family: monospace;font-weight: bold;display: inline-block;line-height: 1.2em;}#sk-container-id-1 div.sk-label-container {text-align: center;}#sk-container-id-1 div.sk-container {/* jupyter's `normalize.less` sets `[hidden] { display: none; }` but bootstrap.min.css set `[hidden] { display: none !important; }` so we also need the `!important` here to be able to override the default hidden behavior on the sphinx rendered scikit-learn.org. See: https://github.com/scikit-learn/scikit-learn/issues/21755 */display: inline-block !important;position: relative;}#sk-container-id-1 div.sk-text-repr-fallback {display: none;}</style><div id=\"sk-container-id-1\" class=\"sk-top-container\"><div class=\"sk-text-repr-fallback\"><pre>DecisionTreeRegressor(max_depth=2, random_state=42)</pre><b>In a Jupyter environment, please rerun this cell to show the HTML representation or trust the notebook. <br />On GitHub, the HTML representation is unable to render, please try loading this page with nbviewer.org.</b></div><div class=\"sk-container\" hidden><div class=\"sk-item\"><div class=\"sk-estimator sk-toggleable\"><input class=\"sk-toggleable__control sk-hidden--visually\" id=\"sk-estimator-id-1\" type=\"checkbox\" checked><label for=\"sk-estimator-id-1\" class=\"sk-toggleable__label sk-toggleable__label-arrow\">DecisionTreeRegressor</label><div class=\"sk-toggleable__content\"><pre>DecisionTreeRegressor(max_depth=2, random_state=42)</pre></div></div></div></div></div>"
      ],
      "text/plain": [
       "DecisionTreeRegressor(max_depth=2, random_state=42)"
      ]
     },
     "execution_count": 3,
     "metadata": {},
     "output_type": "execute_result"
    }
   ],
   "source": [
    "from sklearn.tree import DecisionTreeRegressor\n",
    "\n",
    "tree_reg1 = DecisionTreeRegressor(max_depth=2, random_state=42)\n",
    "tree_reg1.fit(X, y)"
   ]
  },
  {
   "cell_type": "markdown",
   "metadata": {
    "colab_type": "text",
    "id": "W3ao2m6RRz8Z"
   },
   "source": [
    "Now train a second `DecisionTreeRegressor` on the residual errors made by the first predictor:"
   ]
  },
  {
   "cell_type": "code",
   "execution_count": 4,
   "metadata": {
    "colab": {},
    "colab_type": "code",
    "id": "j_wMy80MRz8Z",
    "outputId": "41e4143a-5dad-40e7-b816-b08ff7a39799"
   },
   "outputs": [
    {
     "data": {
      "text/html": [
       "<style>#sk-container-id-2 {color: black;background-color: white;}#sk-container-id-2 pre{padding: 0;}#sk-container-id-2 div.sk-toggleable {background-color: white;}#sk-container-id-2 label.sk-toggleable__label {cursor: pointer;display: block;width: 100%;margin-bottom: 0;padding: 0.3em;box-sizing: border-box;text-align: center;}#sk-container-id-2 label.sk-toggleable__label-arrow:before {content: \"▸\";float: left;margin-right: 0.25em;color: #696969;}#sk-container-id-2 label.sk-toggleable__label-arrow:hover:before {color: black;}#sk-container-id-2 div.sk-estimator:hover label.sk-toggleable__label-arrow:before {color: black;}#sk-container-id-2 div.sk-toggleable__content {max-height: 0;max-width: 0;overflow: hidden;text-align: left;background-color: #f0f8ff;}#sk-container-id-2 div.sk-toggleable__content pre {margin: 0.2em;color: black;border-radius: 0.25em;background-color: #f0f8ff;}#sk-container-id-2 input.sk-toggleable__control:checked~div.sk-toggleable__content {max-height: 200px;max-width: 100%;overflow: auto;}#sk-container-id-2 input.sk-toggleable__control:checked~label.sk-toggleable__label-arrow:before {content: \"▾\";}#sk-container-id-2 div.sk-estimator input.sk-toggleable__control:checked~label.sk-toggleable__label {background-color: #d4ebff;}#sk-container-id-2 div.sk-label input.sk-toggleable__control:checked~label.sk-toggleable__label {background-color: #d4ebff;}#sk-container-id-2 input.sk-hidden--visually {border: 0;clip: rect(1px 1px 1px 1px);clip: rect(1px, 1px, 1px, 1px);height: 1px;margin: -1px;overflow: hidden;padding: 0;position: absolute;width: 1px;}#sk-container-id-2 div.sk-estimator {font-family: monospace;background-color: #f0f8ff;border: 1px dotted black;border-radius: 0.25em;box-sizing: border-box;margin-bottom: 0.5em;}#sk-container-id-2 div.sk-estimator:hover {background-color: #d4ebff;}#sk-container-id-2 div.sk-parallel-item::after {content: \"\";width: 100%;border-bottom: 1px solid gray;flex-grow: 1;}#sk-container-id-2 div.sk-label:hover label.sk-toggleable__label {background-color: #d4ebff;}#sk-container-id-2 div.sk-serial::before {content: \"\";position: absolute;border-left: 1px solid gray;box-sizing: border-box;top: 0;bottom: 0;left: 50%;z-index: 0;}#sk-container-id-2 div.sk-serial {display: flex;flex-direction: column;align-items: center;background-color: white;padding-right: 0.2em;padding-left: 0.2em;position: relative;}#sk-container-id-2 div.sk-item {position: relative;z-index: 1;}#sk-container-id-2 div.sk-parallel {display: flex;align-items: stretch;justify-content: center;background-color: white;position: relative;}#sk-container-id-2 div.sk-item::before, #sk-container-id-2 div.sk-parallel-item::before {content: \"\";position: absolute;border-left: 1px solid gray;box-sizing: border-box;top: 0;bottom: 0;left: 50%;z-index: -1;}#sk-container-id-2 div.sk-parallel-item {display: flex;flex-direction: column;z-index: 1;position: relative;background-color: white;}#sk-container-id-2 div.sk-parallel-item:first-child::after {align-self: flex-end;width: 50%;}#sk-container-id-2 div.sk-parallel-item:last-child::after {align-self: flex-start;width: 50%;}#sk-container-id-2 div.sk-parallel-item:only-child::after {width: 0;}#sk-container-id-2 div.sk-dashed-wrapped {border: 1px dashed gray;margin: 0 0.4em 0.5em 0.4em;box-sizing: border-box;padding-bottom: 0.4em;background-color: white;}#sk-container-id-2 div.sk-label label {font-family: monospace;font-weight: bold;display: inline-block;line-height: 1.2em;}#sk-container-id-2 div.sk-label-container {text-align: center;}#sk-container-id-2 div.sk-container {/* jupyter's `normalize.less` sets `[hidden] { display: none; }` but bootstrap.min.css set `[hidden] { display: none !important; }` so we also need the `!important` here to be able to override the default hidden behavior on the sphinx rendered scikit-learn.org. See: https://github.com/scikit-learn/scikit-learn/issues/21755 */display: inline-block !important;position: relative;}#sk-container-id-2 div.sk-text-repr-fallback {display: none;}</style><div id=\"sk-container-id-2\" class=\"sk-top-container\"><div class=\"sk-text-repr-fallback\"><pre>DecisionTreeRegressor(max_depth=2, random_state=42)</pre><b>In a Jupyter environment, please rerun this cell to show the HTML representation or trust the notebook. <br />On GitHub, the HTML representation is unable to render, please try loading this page with nbviewer.org.</b></div><div class=\"sk-container\" hidden><div class=\"sk-item\"><div class=\"sk-estimator sk-toggleable\"><input class=\"sk-toggleable__control sk-hidden--visually\" id=\"sk-estimator-id-2\" type=\"checkbox\" checked><label for=\"sk-estimator-id-2\" class=\"sk-toggleable__label sk-toggleable__label-arrow\">DecisionTreeRegressor</label><div class=\"sk-toggleable__content\"><pre>DecisionTreeRegressor(max_depth=2, random_state=42)</pre></div></div></div></div></div>"
      ],
      "text/plain": [
       "DecisionTreeRegressor(max_depth=2, random_state=42)"
      ]
     },
     "execution_count": 4,
     "metadata": {},
     "output_type": "execute_result"
    }
   ],
   "source": [
    "y2 = y - tree_reg1.predict(X)\n",
    "tree_reg2 = DecisionTreeRegressor(max_depth=2, random_state=42)\n",
    "tree_reg2.fit(X, y2)"
   ]
  },
  {
   "cell_type": "markdown",
   "metadata": {
    "colab_type": "text",
    "id": "T7iraM6-Rz8c"
   },
   "source": [
    "Then we train a third regressor on the residual errors made by the second predictor:\n",
    "\n"
   ]
  },
  {
   "cell_type": "code",
   "execution_count": 5,
   "metadata": {
    "colab": {},
    "colab_type": "code",
    "id": "luWV0lZGRz8c",
    "outputId": "53ef51ac-8293-4c24-b403-853320cdd4a7"
   },
   "outputs": [
    {
     "data": {
      "text/html": [
       "<style>#sk-container-id-3 {color: black;background-color: white;}#sk-container-id-3 pre{padding: 0;}#sk-container-id-3 div.sk-toggleable {background-color: white;}#sk-container-id-3 label.sk-toggleable__label {cursor: pointer;display: block;width: 100%;margin-bottom: 0;padding: 0.3em;box-sizing: border-box;text-align: center;}#sk-container-id-3 label.sk-toggleable__label-arrow:before {content: \"▸\";float: left;margin-right: 0.25em;color: #696969;}#sk-container-id-3 label.sk-toggleable__label-arrow:hover:before {color: black;}#sk-container-id-3 div.sk-estimator:hover label.sk-toggleable__label-arrow:before {color: black;}#sk-container-id-3 div.sk-toggleable__content {max-height: 0;max-width: 0;overflow: hidden;text-align: left;background-color: #f0f8ff;}#sk-container-id-3 div.sk-toggleable__content pre {margin: 0.2em;color: black;border-radius: 0.25em;background-color: #f0f8ff;}#sk-container-id-3 input.sk-toggleable__control:checked~div.sk-toggleable__content {max-height: 200px;max-width: 100%;overflow: auto;}#sk-container-id-3 input.sk-toggleable__control:checked~label.sk-toggleable__label-arrow:before {content: \"▾\";}#sk-container-id-3 div.sk-estimator input.sk-toggleable__control:checked~label.sk-toggleable__label {background-color: #d4ebff;}#sk-container-id-3 div.sk-label input.sk-toggleable__control:checked~label.sk-toggleable__label {background-color: #d4ebff;}#sk-container-id-3 input.sk-hidden--visually {border: 0;clip: rect(1px 1px 1px 1px);clip: rect(1px, 1px, 1px, 1px);height: 1px;margin: -1px;overflow: hidden;padding: 0;position: absolute;width: 1px;}#sk-container-id-3 div.sk-estimator {font-family: monospace;background-color: #f0f8ff;border: 1px dotted black;border-radius: 0.25em;box-sizing: border-box;margin-bottom: 0.5em;}#sk-container-id-3 div.sk-estimator:hover {background-color: #d4ebff;}#sk-container-id-3 div.sk-parallel-item::after {content: \"\";width: 100%;border-bottom: 1px solid gray;flex-grow: 1;}#sk-container-id-3 div.sk-label:hover label.sk-toggleable__label {background-color: #d4ebff;}#sk-container-id-3 div.sk-serial::before {content: \"\";position: absolute;border-left: 1px solid gray;box-sizing: border-box;top: 0;bottom: 0;left: 50%;z-index: 0;}#sk-container-id-3 div.sk-serial {display: flex;flex-direction: column;align-items: center;background-color: white;padding-right: 0.2em;padding-left: 0.2em;position: relative;}#sk-container-id-3 div.sk-item {position: relative;z-index: 1;}#sk-container-id-3 div.sk-parallel {display: flex;align-items: stretch;justify-content: center;background-color: white;position: relative;}#sk-container-id-3 div.sk-item::before, #sk-container-id-3 div.sk-parallel-item::before {content: \"\";position: absolute;border-left: 1px solid gray;box-sizing: border-box;top: 0;bottom: 0;left: 50%;z-index: -1;}#sk-container-id-3 div.sk-parallel-item {display: flex;flex-direction: column;z-index: 1;position: relative;background-color: white;}#sk-container-id-3 div.sk-parallel-item:first-child::after {align-self: flex-end;width: 50%;}#sk-container-id-3 div.sk-parallel-item:last-child::after {align-self: flex-start;width: 50%;}#sk-container-id-3 div.sk-parallel-item:only-child::after {width: 0;}#sk-container-id-3 div.sk-dashed-wrapped {border: 1px dashed gray;margin: 0 0.4em 0.5em 0.4em;box-sizing: border-box;padding-bottom: 0.4em;background-color: white;}#sk-container-id-3 div.sk-label label {font-family: monospace;font-weight: bold;display: inline-block;line-height: 1.2em;}#sk-container-id-3 div.sk-label-container {text-align: center;}#sk-container-id-3 div.sk-container {/* jupyter's `normalize.less` sets `[hidden] { display: none; }` but bootstrap.min.css set `[hidden] { display: none !important; }` so we also need the `!important` here to be able to override the default hidden behavior on the sphinx rendered scikit-learn.org. See: https://github.com/scikit-learn/scikit-learn/issues/21755 */display: inline-block !important;position: relative;}#sk-container-id-3 div.sk-text-repr-fallback {display: none;}</style><div id=\"sk-container-id-3\" class=\"sk-top-container\"><div class=\"sk-text-repr-fallback\"><pre>DecisionTreeRegressor(max_depth=2, random_state=42)</pre><b>In a Jupyter environment, please rerun this cell to show the HTML representation or trust the notebook. <br />On GitHub, the HTML representation is unable to render, please try loading this page with nbviewer.org.</b></div><div class=\"sk-container\" hidden><div class=\"sk-item\"><div class=\"sk-estimator sk-toggleable\"><input class=\"sk-toggleable__control sk-hidden--visually\" id=\"sk-estimator-id-3\" type=\"checkbox\" checked><label for=\"sk-estimator-id-3\" class=\"sk-toggleable__label sk-toggleable__label-arrow\">DecisionTreeRegressor</label><div class=\"sk-toggleable__content\"><pre>DecisionTreeRegressor(max_depth=2, random_state=42)</pre></div></div></div></div></div>"
      ],
      "text/plain": [
       "DecisionTreeRegressor(max_depth=2, random_state=42)"
      ]
     },
     "execution_count": 5,
     "metadata": {},
     "output_type": "execute_result"
    }
   ],
   "source": [
    "y3 = y2 - tree_reg2.predict(X)\n",
    "tree_reg3 = DecisionTreeRegressor(max_depth=2, random_state=42)\n",
    "tree_reg3.fit(X, y3)"
   ]
  },
  {
   "cell_type": "markdown",
   "metadata": {
    "colab_type": "text",
    "id": "hNqDI9AcRz8g"
   },
   "source": [
    "Now we have an ensemble containing three trees. It can make predictions on a new instance simply by adding up the predictions of all the trees:"
   ]
  },
  {
   "cell_type": "code",
   "execution_count": 6,
   "metadata": {
    "colab": {},
    "colab_type": "code",
    "id": "5UxW0hN1Rz8g"
   },
   "outputs": [],
   "source": [
    "X_new = np.array([[0.8]])"
   ]
  },
  {
   "cell_type": "code",
   "execution_count": 7,
   "metadata": {
    "colab": {},
    "colab_type": "code",
    "id": "2O_e-UpZRz8j"
   },
   "outputs": [],
   "source": [
    "y_pred = sum(tree.predict(X_new) for tree in (tree_reg1, tree_reg2, tree_reg3))"
   ]
  },
  {
   "cell_type": "code",
   "execution_count": 8,
   "metadata": {
    "colab": {},
    "colab_type": "code",
    "id": "TKw9-uOJRz8m",
    "outputId": "2d615aee-f854-489a-e517-d8fbc7d1ea48"
   },
   "outputs": [
    {
     "data": {
      "text/plain": [
       "array([0.75026781])"
      ]
     },
     "execution_count": 8,
     "metadata": {},
     "output_type": "execute_result"
    }
   ],
   "source": [
    "y_pred"
   ]
  },
  {
   "cell_type": "markdown",
   "metadata": {
    "colab_type": "text",
    "id": "PlbPjAa1Rz8o"
   },
   "source": [
    "The figure below represents the predictions of these three trees in the left column, and the ensemble’s predictions in the right column. In the first row, the ensemble has just one tree, so its predictions are exactly the same as the first tree’s predictions. In the second row, a new tree is trained on the residual errors of the first tree. On the right you can see that the ensemble’s predictions are equal to the sum of the predictions of the first two trees. Similarly, in the third row another tree is trained on the residual errors of the second tree. You can see that the ensemble’s predictions gradually get better as trees are added to the ensemble."
   ]
  },
  {
   "cell_type": "markdown",
   "metadata": {
    "colab_type": "text",
    "id": "WRMKci30Rz8p",
    "tags": []
   },
   "source": [
    "**<font color='teal'>Run the below cell to develop a visual representation.</font>**"
   ]
  },
  {
   "cell_type": "code",
   "execution_count": 9,
   "metadata": {
    "colab": {},
    "colab_type": "code",
    "id": "gbuQDXNWRz8p",
    "outputId": "62b85e30-cc06-4585-bd8f-860924249c53",
    "tags": []
   },
   "outputs": [
    {
     "data": {
      "image/png": "[encoded data removed]",
      "text/plain": [
       "<Figure size 1100x1100 with 6 Axes>"
      ]
     },
     "metadata": {},
     "output_type": "display_data"
    }
   ],
   "source": [
    "def plot_predictions(regressors, X, y, axes, label=None, style=\"r-\", data_style=\"b.\", data_label=None):\n",
    "    x1 = np.linspace(axes[0], axes[1], 500)\n",
    "    y_pred = sum(regressor.predict(x1.reshape(-1, 1)) for regressor in regressors)\n",
    "    plt.plot(X[:, 0], y, data_style, label=data_label)\n",
    "    plt.plot(x1, y_pred, style, linewidth=2, label=label)\n",
    "    if label or data_label:\n",
    "        plt.legend(loc=\"upper center\", fontsize=16)\n",
    "    plt.axis(axes)\n",
    "\n",
    "plt.figure(figsize=(11,11))\n",
    "\n",
    "plt.subplot(321)\n",
    "plot_predictions([tree_reg1], X, y, axes=[-0.5, 0.5, -0.1, 0.8], label=\"$h_1(x_1)$\", style=\"g-\", data_label=\"Training set\")\n",
    "plt.ylabel(\"$y$\", fontsize=16, rotation=0)\n",
    "plt.title(\"Residuals and tree predictions\", fontsize=16)\n",
    "\n",
    "plt.subplot(322)\n",
    "plot_predictions([tree_reg1], X, y, axes=[-0.5, 0.5, -0.1, 0.8], label=\"$h(x_1) = h_1(x_1)$\", data_label=\"Training set\")\n",
    "plt.ylabel(\"$y$\", fontsize=16, rotation=0)\n",
    "plt.title(\"Ensemble predictions\", fontsize=16)\n",
    "\n",
    "plt.subplot(323)\n",
    "plot_predictions([tree_reg2], X, y2, axes=[-0.5, 0.5, -0.5, 0.5], label=\"$h_2(x_1)$\", style=\"g-\", data_style=\"k+\", data_label=\"Residuals\")\n",
    "plt.ylabel(\"$y - h_1(x_1)$\", fontsize=16)\n",
    "\n",
    "plt.subplot(324)\n",
    "plot_predictions([tree_reg1, tree_reg2], X, y, axes=[-0.5, 0.5, -0.1, 0.8], label=\"$h(x_1) = h_1(x_1) + h_2(x_1)$\")\n",
    "plt.ylabel(\"$y$\", fontsize=16, rotation=0)\n",
    "\n",
    "plt.subplot(325)\n",
    "plot_predictions([tree_reg3], X, y3, axes=[-0.5, 0.5, -0.5, 0.5], label=\"$h_3(x_1)$\", style=\"g-\", data_style=\"k+\")\n",
    "plt.ylabel(\"$y - h_1(x_1) - h_2(x_1)$\", fontsize=16)\n",
    "plt.xlabel(\"$x_1$\", fontsize=16)\n",
    "\n",
    "plt.subplot(326)\n",
    "plot_predictions([tree_reg1, tree_reg2, tree_reg3], X, y, axes=[-0.5, 0.5, -0.1, 0.8], label=\"$h(x_1) = h_1(x_1) + h_2(x_1) + h_3(x_1)$\")\n",
    "plt.xlabel(\"$x_1$\", fontsize=16)\n",
    "plt.ylabel(\"$y$\", fontsize=16, rotation=0)\n",
    "\n",
    "#save_fig(\"gradient_boosting_plot\")\n",
    "plt.show()"
   ]
  },
  {
   "cell_type": "markdown",
   "metadata": {
    "colab_type": "text",
    "id": "9dsMW-TCRz8s"
   },
   "source": [
    "Now that you have solid understanding of Gradient Boosting in the regression scenario, let's apply the same algorithm to a classification problem. Specifically, the Titanic dataset and predicting survival."
   ]
  },
  {
   "cell_type": "markdown",
   "metadata": {
    "colab_type": "text",
    "id": "oaIC-pukRz8s",
    "tags": []
   },
   "source": [
    "**<font color='teal'>Use pandas read csv to load in the Titantic data set into a dataframe called df.</font>**\n",
    "\n",
    "Hint: in this case you can use [dropna()](https://pandas.pydata.org/pandas-docs/stable/reference/api/pandas.DataFrame.dropna.html) to just throw away any incomplete rows. For the purpose of this exercise we will disregard them but obviously in the real world you need to be much more careful and decide how to handle incomplete observations. "
   ]
  },
  {
   "cell_type": "code",
   "execution_count": 10,
   "metadata": {
    "colab": {},
    "colab_type": "code",
    "id": "2MG_oc_cRz8s"
   },
   "outputs": [],
   "source": [
    "url='/Users/sharanaravindh/Desktop/springboard/Github repository/1601612507_Gradient_Boosting_Case_Study_updated_10_01_2020/titanic.csv'\n",
    "df = pd.read_csv(url)"
   ]
  },
  {
   "cell_type": "code",
   "execution_count": 16,
   "metadata": {},
   "outputs": [],
   "source": [
    "dfo = df.dropna()"
   ]
  },
  {
   "cell_type": "markdown",
   "metadata": {
    "colab_type": "text",
    "id": "zLvRIfuSRz8w",
    "tags": []
   },
   "source": [
    "**<font color='teal'>Print the levels of the categorical data using 'select_dtypes'. </font>**"
   ]
  },
  {
   "cell_type": "code",
   "execution_count": 17,
   "metadata": {
    "colab": {},
    "colab_type": "code",
    "id": "RmwDwRljRz8x"
   },
   "outputs": [
    {
     "name": "stdout",
     "output_type": "stream",
     "text": [
      "Index(['Name', 'Sex', 'Ticket', 'Cabin', 'Embarked'], dtype='object')\n"
     ]
    }
   ],
   "source": [
    "categorical_columns = dfo.select_dtypes(include=['object']).columns\n",
    "print(categorical_columns)"
   ]
  },
  {
   "cell_type": "code",
   "execution_count": 18,
   "metadata": {},
   "outputs": [
    {
     "name": "stdout",
     "output_type": "stream",
     "text": [
      "Column: Name\n",
      "  Level: Cumings, Mrs. John Bradley (Florence Briggs Thayer)\n",
      "  Level: Futrelle, Mrs. Jacques Heath (Lily May Peel)\n",
      "  Level: McCarthy, Mr. Timothy J\n",
      "  Level: Sandstrom, Miss. Marguerite Rut\n",
      "  Level: Bonnell, Miss. Elizabeth\n",
      "  Level: Beesley, Mr. Lawrence\n",
      "  Level: Sloper, Mr. William Thompson\n",
      "  Level: Fortune, Mr. Charles Alexander\n",
      "  Level: Harper, Mrs. Henry Sleeper (Myna Haxtun)\n",
      "  Level: Ostby, Mr. Engelhart Cornelius\n",
      "  Level: Harris, Mr. Henry Birkhardt\n",
      "  Level: Nye, Mrs. (Elizabeth Ramell)\n",
      "  Level: Moen, Mr. Sigurd Hansen\n",
      "  Level: Fortune, Miss. Mabel Helen\n",
      "  Level: Chaffee, Mr. Herbert Fuller\n",
      "  Level: Goldschmidt, Mr. George B\n",
      "  Level: Greenfield, Mr. William Bertram\n",
      "  Level: White, Mr. Richard Frasar\n",
      "  Level: Porter, Mr. Walter Chamberlain\n",
      "  Level: Baxter, Mr. Quigg Edmond\n",
      "  Level: Webber, Miss. Susan\n",
      "  Level: White, Mr. Percival Wayland\n",
      "  Level: Newsom, Miss. Helen Monypeny\n",
      "  Level: Futrelle, Mr. Jacques Heath\n",
      "  Level: Giglio, Mr. Victor\n",
      "  Level: Navratil, Mr. Michel (\"Louis M Hoffman\")\n",
      "  Level: Pears, Mrs. Thomas (Edith Wearne)\n",
      "  Level: Van der hoef, Mr. Wyckoff\n",
      "  Level: Smith, Mr. James Clinch\n",
      "  Level: Isham, Miss. Ann Elizabeth\n",
      "  Level: Becker, Master. Richard F\n",
      "  Level: Navratil, Master. Michel M\n",
      "  Level: Brown, Mrs. James Joseph (Margaret Tobin)\n",
      "  Level: Lurette, Miss. Elise\n",
      "  Level: Strom, Miss. Telma Matilda\n",
      "  Level: Blank, Mr. Henry\n",
      "  Level: Newell, Miss. Madeleine\n",
      "  Level: Bazzani, Miss. Albina\n",
      "  Level: Hoyt, Mr. Frederick Maxfield\n",
      "  Level: Harris, Mrs. Henry Birkhardt (Irene Wallach)\n",
      "  Level: Minahan, Dr. William Edward\n",
      "  Level: Beckwith, Mr. Richard Leonard\n",
      "  Level: Strom, Mrs. Wilhelm (Elna Matilda Persson)\n",
      "  Level: Stead, Mr. William Thomas\n",
      "  Level: Cherry, Miss. Gladys\n",
      "  Level: Taussig, Mr. Emil\n",
      "  Level: Harrison, Mr. William\n",
      "  Level: Graham, Mrs. William Thompson (Edith Junkins)\n",
      "  Level: Bissette, Miss. Amelia\n",
      "  Level: Natsch, Mr. Charles H\n",
      "  Level: Andrews, Miss. Kornelia Theodosia\n",
      "  Level: Bishop, Mrs. Dickinson H (Helen Walton)\n",
      "  Level: Levy, Mr. Rene Jacques\n",
      "  Level: Allison, Miss. Helen Loraine\n",
      "  Level: Baxter, Mrs. James (Helene DeLaudeniere Chaput)\n",
      "  Level: Allison, Master. Hudson Trevor\n",
      "  Level: Penasco y Castellana, Mrs. Victor de Satode (Maria Josefa Perez de Soto y Vallejo)\n",
      "  Level: Francatelli, Miss. Laura Mabel\n",
      "  Level: Hays, Miss. Margaret Bechstein\n",
      "  Level: Ryerson, Miss. Emily Borie\n",
      "  Level: Wick, Miss. Mary Natalie\n",
      "  Level: Spedden, Mrs. Frederic Oakley (Margaretta Corning Stone)\n",
      "  Level: Young, Miss. Marie Grice\n",
      "  Level: Ball, Mrs. (Ada E Hall)\n",
      "  Level: Hippach, Miss. Jean Gertrude\n",
      "  Level: Partner, Mr. Austen\n",
      "  Level: Graham, Mr. George Edward\n",
      "  Level: Pears, Mr. Thomas Clinton\n",
      "  Level: Burns, Miss. Elizabeth Margaret\n",
      "  Level: Blackwell, Mr. Stephen Weart\n",
      "  Level: Navratil, Master. Edmond Roger\n",
      "  Level: Fortune, Miss. Alice Elizabeth\n",
      "  Level: Brown, Miss. Amelia \"Mildred\"\n",
      "  Level: Bowerman, Miss. Elsie Edith\n",
      "  Level: Warren, Mrs. Frank Manley (Anna Sophia Atkinson)\n",
      "  Level: Aubart, Mme. Leontine Pauline\n",
      "  Level: Harder, Mr. George Achilles\n",
      "  Level: Widener, Mr. Harry Elkins\n",
      "  Level: Carter, Mr. William Ernest\n",
      "  Level: Newell, Miss. Marjorie\n",
      "  Level: Sandstrom, Mrs. Hjalmar (Agnes Charlotta Bengtsson)\n",
      "  Level: Minahan, Miss. Daisy E\n",
      "  Level: Pickard, Mr. Berk (Berk Trembisky)\n",
      "  Level: Bjornstrom-Steffansson, Mr. Mauritz Hakan\n",
      "  Level: Silvey, Mr. William Baird\n",
      "  Level: Carter, Miss. Lucile Polk\n",
      "  Level: Fortune, Mr. Mark\n",
      "  Level: Dodge, Master. Washington\n",
      "  Level: Peuchen, Major. Arthur Godfrey\n",
      "  Level: Foreman, Mr. Benjamin Laventall\n",
      "  Level: Goldenberg, Mr. Samuel L\n",
      "  Level: Millet, Mr. Francis Davis\n",
      "  Level: Anderson, Mr. Harry\n",
      "  Level: Gee, Mr. Arthur H\n",
      "  Level: Jerwan, Mrs. Amin S (Marie Marthe Thuillard)\n",
      "  Level: Bishop, Mr. Dickinson H\n",
      "  Level: Hoyt, Mrs. Frederick Maxfield (Jane Anne Forby)\n",
      "  Level: Kent, Mr. Edward Austin\n",
      "  Level: Molson, Mr. Harry Markland\n",
      "  Level: Eustis, Miss. Elizabeth Mussey\n",
      "  Level: Allison, Mrs. Hudson J C (Bessie Waldo Daniels)\n",
      "  Level: Maioni, Miss. Roberta\n",
      "  Level: Penasco y Castellana, Mr. Victor de Satode\n",
      "  Level: McGough, Mr. James Robert\n",
      "  Level: Walker, Mr. William Anderson\n",
      "  Level: Lemore, Mrs. (Amelia Milley)\n",
      "  Level: Perreault, Miss. Anne\n",
      "  Level: Hippach, Mrs. Louis Albert (Ida Sophia Fischer)\n",
      "  Level: Butt, Major. Archibald Willingham\n",
      "  Level: Frolicher, Miss. Hedwig Margaritha\n",
      "  Level: Crosby, Miss. Harriet R\n",
      "  Level: Douglas, Mr. Walter Donald\n",
      "  Level: Thayer, Mr. John Borland Jr\n",
      "  Level: Duff Gordon, Lady. (Lucille Christiana Sutherland) (\"Mrs Morgan\")\n",
      "  Level: Taussig, Mrs. Emil (Tillie Mandelbaum)\n",
      "  Level: Appleton, Mrs. Edward Dale (Charlotte Lamson)\n",
      "  Level: Flynn, Mr. John Irwin (\"Irving\")\n",
      "  Level: Silvey, Mrs. William Baird (Alice Munger)\n",
      "  Level: Thayer, Mrs. John Borland (Marian Longstreth Morris)\n",
      "  Level: Ross, Mr. John Hugo\n",
      "  Level: Taussig, Miss. Ruth\n",
      "  Level: Frolicher-Stehli, Mr. Maxmillian\n",
      "  Level: Stephenson, Mrs. Walter Bertram (Martha Eustis)\n",
      "  Level: Duff Gordon, Sir. Cosmo Edmund (\"Mr Morgan\")\n",
      "  Level: Shutes, Miss. Elizabeth W\n",
      "  Level: Becker, Miss. Marion Louise\n",
      "  Level: Kimball, Mr. Edwin Nelson Jr\n",
      "  Level: Sutton, Mr. Frederick\n",
      "  Level: Longley, Miss. Gretchen Fiske\n",
      "  Level: Barkworth, Mr. Algernon Henry Wilson\n",
      "  Level: Stahelin-Maeglin, Dr. Max\n",
      "  Level: Sagesser, Mlle. Emma\n",
      "  Level: Harper, Mr. Henry Sleeper\n",
      "  Level: Simonius-Blumer, Col. Oberst Alfons\n",
      "  Level: Newell, Mr. Arthur Webster\n",
      "  Level: Colley, Mr. Edward Pomeroy\n",
      "  Level: Davidson, Mr. Thornton\n",
      "  Level: Cardeza, Mr. Thomas Drake Martinez\n",
      "  Level: Hassab, Mr. Hammad\n",
      "  Level: Madill, Miss. Georgette Alexandra\n",
      "  Level: Dick, Mr. Albert Adrian\n",
      "  Level: Thayer, Mr. John Borland\n",
      "  Level: Humblen, Mr. Adolf Mathias Nicolai Olsen\n",
      "  Level: Astor, Mrs. John Jacob (Madeleine Talmadge Force)\n",
      "  Level: Silverthorne, Mr. Spencer Victor\n",
      "  Level: Calderhead, Mr. Edward Pennington\n",
      "  Level: Mayne, Mlle. Berthe Antonine (\"Mrs de Villiers\")\n",
      "  Level: Taylor, Mr. Elmer Zebley\n",
      "  Level: Soholt, Mr. Peter Andreas Lauritz Andersen\n",
      "  Level: Endres, Miss. Caroline Louise\n",
      "  Level: Troutt, Miss. Edwina Celia \"Winnie\"\n",
      "  Level: Chambers, Mr. Norman Campbell\n",
      "  Level: Allen, Miss. Elisabeth Walton\n",
      "  Level: Lesurer, Mr. Gustave J\n",
      "  Level: Cavendish, Mr. Tyrell William\n",
      "  Level: Ryerson, Miss. Susan Parker \"Suzette\"\n",
      "  Level: Crosby, Capt. Edward Gifford\n",
      "  Level: Marvin, Mr. Daniel Warner\n",
      "  Level: Moor, Master. Meier\n",
      "  Level: Rothes, the Countess. of (Lucy Noel Martha Dyer-Edwards)\n",
      "  Level: Carter, Mrs. William Ernest (Lucile Polk)\n",
      "  Level: Hogeboom, Mrs. John C (Anna Andrews)\n",
      "  Level: Mack, Mrs. (Mary)\n",
      "  Level: Robert, Mrs. Edward Scott (Elisabeth Walton McMillan)\n",
      "  Level: Dick, Mrs. Albert Adrian (Vera Gillespie)\n",
      "  Level: Long, Mr. Milton Clyde\n",
      "  Level: Guggenheim, Mr. Benjamin\n",
      "  Level: Leader, Dr. Alice (Farnham)\n",
      "  Level: Carter, Master. William Thornton II\n",
      "  Level: Andrews, Mr. Thomas Jr\n",
      "  Level: Chambers, Mrs. Norman Campbell (Bertha Griggs)\n",
      "  Level: Hays, Mrs. Charles Melville (Clara Jennings Gregg)\n",
      "  Level: Moor, Mrs. (Beila)\n",
      "  Level: Compton, Miss. Sara Rebecca\n",
      "  Level: Lines, Miss. Mary Conover\n",
      "  Level: Daly, Mr. Peter Denis \n",
      "  Level: Swift, Mrs. Frederick Joel (Margaret Welles Barron)\n",
      "  Level: Roebling, Mr. Washington Augustus II\n",
      "  Level: Beckwith, Mrs. Richard Leonard (Sallie Monypeny)\n",
      "  Level: Carlsson, Mr. Frans Olof\n",
      "  Level: Potter, Mrs. Thomas Jr (Lily Alexenia Wilson)\n",
      "  Level: Graham, Miss. Margaret Edith\n",
      "  Level: Behr, Mr. Karl Howell\n",
      "\n",
      "\n",
      "Column: Sex\n",
      "  Level: female\n",
      "  Level: male\n",
      "\n",
      "\n",
      "Column: Ticket\n",
      "  Level: PC 17599\n",
      "  Level: 113803\n",
      "  Level: 17463\n",
      "  Level: PP 9549\n",
      "  Level: 113783\n",
      "  Level: 248698\n",
      "  Level: 113788\n",
      "  Level: 19950\n",
      "  Level: PC 17572\n",
      "  Level: 113509\n",
      "  Level: 36973\n",
      "  Level: C.A. 29395\n",
      "  Level: 348123\n",
      "  Level: W.E.P. 5734\n",
      "  Level: PC 17754\n",
      "  Level: PC 17759\n",
      "  Level: 35281\n",
      "  Level: 110465\n",
      "  Level: PC 17558\n",
      "  Level: 27267\n",
      "  Level: 11752\n",
      "  Level: PC 17593\n",
      "  Level: 230080\n",
      "  Level: 113776\n",
      "  Level: 111240\n",
      "  Level: 17764\n",
      "  Level: PC 17595\n",
      "  Level: 230136\n",
      "  Level: PC 17610\n",
      "  Level: PC 17569\n",
      "  Level: 347054\n",
      "  Level: 112277\n",
      "  Level: 35273\n",
      "  Level: 11813\n",
      "  Level: 19943\n",
      "  Level: 19928\n",
      "  Level: 11751\n",
      "  Level: 113514\n",
      "  Level: 110152\n",
      "  Level: 110413\n",
      "  Level: 112059\n",
      "  Level: PC 17582\n",
      "  Level: PC 17760\n",
      "  Level: PC 17596\n",
      "  Level: 13502\n",
      "  Level: 11967\n",
      "  Level: SC/Paris 2163\n",
      "  Level: 113781\n",
      "  Level: PC 17758\n",
      "  Level: PC 17485\n",
      "  Level: 11767\n",
      "  Level: PC 17608\n",
      "  Level: 36928\n",
      "  Level: 16966\n",
      "  Level: 28551\n",
      "  Level: 111361\n",
      "  Level: 113043\n",
      "  Level: 113784\n",
      "  Level: 248733\n",
      "  Level: 113505\n",
      "  Level: 110813\n",
      "  Level: PC 17477\n",
      "  Level: 11765\n",
      "  Level: 113503\n",
      "  Level: 113760\n",
      "  Level: SOTON/O.Q. 392078\n",
      "  Level: 110564\n",
      "  Level: 13507\n",
      "  Level: 33638\n",
      "  Level: 113786\n",
      "  Level: 113051\n",
      "  Level: 17453\n",
      "  Level: 13509\n",
      "  Level: 19952\n",
      "  Level: 111320\n",
      "  Level: SC/AH Basle 541\n",
      "  Level: 11771\n",
      "  Level: 113787\n",
      "  Level: 36947\n",
      "  Level: PC 17473\n",
      "  Level: 36967\n",
      "  Level: C.A. 34260\n",
      "  Level: 12749\n",
      "  Level: 113050\n",
      "  Level: 13568\n",
      "  Level: WE/P 5735\n",
      "  Level: PC 17761\n",
      "  Level: 17421\n",
      "  Level: 11755\n",
      "  Level: 11769\n",
      "  Level: PC 17474\n",
      "  Level: 13049\n",
      "  Level: 13567\n",
      "  Level: 11753\n",
      "  Level: 36963\n",
      "  Level: 27042\n",
      "  Level: 13214\n",
      "  Level: 13213\n",
      "  Level: 5727\n",
      "  Level: F.C. 12750\n",
      "  Level: PC 17755\n",
      "  Level: 24160\n",
      "  Level: 17474\n",
      "  Level: 348121\n",
      "  Level: PC 17757\n",
      "  Level: PC 17475\n",
      "  Level: PC 17476\n",
      "  Level: PC 17482\n",
      "  Level: 19996\n",
      "  Level: 348124\n",
      "  Level: 34218\n",
      "  Level: 113806\n",
      "  Level: 19877\n",
      "  Level: 113773\n",
      "  Level: 392096\n",
      "  Level: S.O./P.P. 3\n",
      "  Level: 113501\n",
      "  Level: 17465\n",
      "  Level: 112050\n",
      "  Level: PC 17756\n",
      "  Level: PC 17592\n",
      "  Level: 113055\n",
      "  Level: 17466\n",
      "  Level: PC 17590\n",
      "  Level: 695\n",
      "  Level: 112053\n",
      "  Level: 111369\n",
      "\n",
      "\n",
      "Column: Cabin\n",
      "  Level: C85\n",
      "  Level: C123\n",
      "  Level: E46\n",
      "  Level: G6\n",
      "  Level: C103\n",
      "  Level: D56\n",
      "  Level: A6\n",
      "  Level: C23 C25 C27\n",
      "  Level: D33\n",
      "  Level: B30\n",
      "  Level: C83\n",
      "  Level: F33\n",
      "  Level: F G73\n",
      "  Level: E31\n",
      "  Level: A5\n",
      "  Level: D10 D12\n",
      "  Level: D26\n",
      "  Level: C110\n",
      "  Level: B58 B60\n",
      "  Level: E101\n",
      "  Level: D47\n",
      "  Level: B86\n",
      "  Level: F2\n",
      "  Level: C2\n",
      "  Level: B19\n",
      "  Level: A7\n",
      "  Level: C49\n",
      "  Level: F4\n",
      "  Level: B4\n",
      "  Level: B80\n",
      "  Level: A31\n",
      "  Level: D36\n",
      "  Level: D15\n",
      "  Level: C93\n",
      "  Level: C78\n",
      "  Level: D35\n",
      "  Level: C87\n",
      "  Level: B77\n",
      "  Level: E67\n",
      "  Level: B94\n",
      "  Level: C125\n",
      "  Level: C99\n",
      "  Level: C118\n",
      "  Level: D7\n",
      "  Level: B49\n",
      "  Level: D\n",
      "  Level: C22 C26\n",
      "  Level: C65\n",
      "  Level: E36\n",
      "  Level: C54\n",
      "  Level: B57 B59 B63 B66\n",
      "  Level: C7\n",
      "  Level: E34\n",
      "  Level: C32\n",
      "  Level: B18\n",
      "  Level: C124\n",
      "  Level: C91\n",
      "  Level: E40\n",
      "  Level: T\n",
      "  Level: E33\n",
      "  Level: D37\n",
      "  Level: B35\n",
      "  Level: E50\n",
      "  Level: C82\n",
      "  Level: B96 B98\n",
      "  Level: E10\n",
      "  Level: C52\n",
      "  Level: E44\n",
      "  Level: A34\n",
      "  Level: C104\n",
      "  Level: C111\n",
      "  Level: C92\n",
      "  Level: E38\n",
      "  Level: E12\n",
      "  Level: E63\n",
      "  Level: B37\n",
      "  Level: C30\n",
      "  Level: D20\n",
      "  Level: B79\n",
      "  Level: E25\n",
      "  Level: D46\n",
      "  Level: B73\n",
      "  Level: B38\n",
      "  Level: B39\n",
      "  Level: B22\n",
      "  Level: C86\n",
      "  Level: C70\n",
      "  Level: A16\n",
      "  Level: C101\n",
      "  Level: C68\n",
      "  Level: A10\n",
      "  Level: E68\n",
      "  Level: B41\n",
      "  Level: A20\n",
      "  Level: D19\n",
      "  Level: D50\n",
      "  Level: D9\n",
      "  Level: A23\n",
      "  Level: B50\n",
      "  Level: A26\n",
      "  Level: D48\n",
      "  Level: E58\n",
      "  Level: B71\n",
      "  Level: B51 B53 B55\n",
      "  Level: D49\n",
      "  Level: B5\n",
      "  Level: B20\n",
      "  Level: F G63\n",
      "  Level: C62 C64\n",
      "  Level: E24\n",
      "  Level: C90\n",
      "  Level: C126\n",
      "  Level: C45\n",
      "  Level: E8\n",
      "  Level: B101\n",
      "  Level: C46\n",
      "  Level: D30\n",
      "  Level: E121\n",
      "  Level: D11\n",
      "  Level: E77\n",
      "  Level: B3\n",
      "  Level: D6\n",
      "  Level: B82 B84\n",
      "  Level: D17\n",
      "  Level: A36\n",
      "  Level: B69\n",
      "  Level: E49\n",
      "  Level: D28\n",
      "  Level: E17\n",
      "  Level: A24\n",
      "  Level: C50\n",
      "  Level: B42\n",
      "  Level: C148\n",
      "\n",
      "\n",
      "Column: Embarked\n",
      "  Level: C\n",
      "  Level: S\n",
      "  Level: Q\n",
      "\n",
      "\n"
     ]
    }
   ],
   "source": [
    "for column in categorical_columns:\n",
    "    unique_levels = pd.unique(df[column])\n",
    "    print(f'Column: {column}')\n",
    "    for level in unique_levels:\n",
    "        print(f'  Level: {level}')\n",
    "    print('\\n')"
   ]
  },
  {
   "cell_type": "markdown",
   "metadata": {
    "colab_type": "text",
    "id": "D07cr6M5Rz8z",
    "tags": []
   },
   "source": [
    "**<font color='teal'>Create dummy features for the categorical features and add those to the 'df' dataframe. Make sure to also remove the original categorical columns from the dataframe.</font>**"
   ]
  },
  {
   "cell_type": "code",
   "execution_count": 19,
   "metadata": {
    "colab": {},
    "colab_type": "code",
    "id": "vPF6cbioRz8z"
   },
   "outputs": [
    {
     "name": "stdout",
     "output_type": "stream",
     "text": [
      "(183, 11)\n"
     ]
    },
    {
     "data": {
      "text/html": [
       "<div>\n",
       "<style scoped>\n",
       "    .dataframe tbody tr th:only-of-type {\n",
       "        vertical-align: middle;\n",
       "    }\n",
       "\n",
       "    .dataframe tbody tr th {\n",
       "        vertical-align: top;\n",
       "    }\n",
       "\n",
       "    .dataframe thead th {\n",
       "        text-align: right;\n",
       "    }\n",
       "</style>\n",
       "<table border=\"1\" class=\"dataframe\">\n",
       "  <thead>\n",
       "    <tr style=\"text-align: right;\">\n",
       "      <th></th>\n",
       "      <th>Survived</th>\n",
       "      <th>Pclass</th>\n",
       "      <th>Age</th>\n",
       "      <th>SibSp</th>\n",
       "      <th>Parch</th>\n",
       "      <th>Fare</th>\n",
       "      <th>Sex_female</th>\n",
       "      <th>Sex_male</th>\n",
       "      <th>Embarked_C</th>\n",
       "      <th>Embarked_Q</th>\n",
       "      <th>Embarked_S</th>\n",
       "    </tr>\n",
       "  </thead>\n",
       "  <tbody>\n",
       "    <tr>\n",
       "      <th>1</th>\n",
       "      <td>1</td>\n",
       "      <td>1</td>\n",
       "      <td>38.0</td>\n",
       "      <td>1</td>\n",
       "      <td>0</td>\n",
       "      <td>71.2833</td>\n",
       "      <td>1</td>\n",
       "      <td>0</td>\n",
       "      <td>1</td>\n",
       "      <td>0</td>\n",
       "      <td>0</td>\n",
       "    </tr>\n",
       "    <tr>\n",
       "      <th>3</th>\n",
       "      <td>1</td>\n",
       "      <td>1</td>\n",
       "      <td>35.0</td>\n",
       "      <td>1</td>\n",
       "      <td>0</td>\n",
       "      <td>53.1000</td>\n",
       "      <td>1</td>\n",
       "      <td>0</td>\n",
       "      <td>0</td>\n",
       "      <td>0</td>\n",
       "      <td>1</td>\n",
       "    </tr>\n",
       "    <tr>\n",
       "      <th>6</th>\n",
       "      <td>0</td>\n",
       "      <td>1</td>\n",
       "      <td>54.0</td>\n",
       "      <td>0</td>\n",
       "      <td>0</td>\n",
       "      <td>51.8625</td>\n",
       "      <td>0</td>\n",
       "      <td>1</td>\n",
       "      <td>0</td>\n",
       "      <td>0</td>\n",
       "      <td>1</td>\n",
       "    </tr>\n",
       "    <tr>\n",
       "      <th>10</th>\n",
       "      <td>1</td>\n",
       "      <td>3</td>\n",
       "      <td>4.0</td>\n",
       "      <td>1</td>\n",
       "      <td>1</td>\n",
       "      <td>16.7000</td>\n",
       "      <td>1</td>\n",
       "      <td>0</td>\n",
       "      <td>0</td>\n",
       "      <td>0</td>\n",
       "      <td>1</td>\n",
       "    </tr>\n",
       "    <tr>\n",
       "      <th>11</th>\n",
       "      <td>1</td>\n",
       "      <td>1</td>\n",
       "      <td>58.0</td>\n",
       "      <td>0</td>\n",
       "      <td>0</td>\n",
       "      <td>26.5500</td>\n",
       "      <td>1</td>\n",
       "      <td>0</td>\n",
       "      <td>0</td>\n",
       "      <td>0</td>\n",
       "      <td>1</td>\n",
       "    </tr>\n",
       "  </tbody>\n",
       "</table>\n",
       "</div>"
      ],
      "text/plain": [
       "    Survived  Pclass   Age  SibSp  Parch     Fare  Sex_female  Sex_male  \\\n",
       "1          1       1  38.0      1      0  71.2833           1         0   \n",
       "3          1       1  35.0      1      0  53.1000           1         0   \n",
       "6          0       1  54.0      0      0  51.8625           0         1   \n",
       "10         1       3   4.0      1      1  16.7000           1         0   \n",
       "11         1       1  58.0      0      0  26.5500           1         0   \n",
       "\n",
       "    Embarked_C  Embarked_Q  Embarked_S  \n",
       "1            1           0           0  \n",
       "3            0           0           1  \n",
       "6            0           0           1  \n",
       "10           0           0           1  \n",
       "11           0           0           1  "
      ]
     },
     "execution_count": 19,
     "metadata": {},
     "output_type": "execute_result"
    }
   ],
   "source": [
    "df = pd.DataFrame(df.drop(dfo.columns,axis =1)).merge(pd.get_dummies(dfo.drop(['Name','Cabin','Ticket'],axis =1)),left_index=True,right_index=True).drop(['PassengerId'],axis =1)\n",
    "print(df.shape)\n",
    "df.head()"
   ]
  },
  {
   "cell_type": "markdown",
   "metadata": {
    "colab_type": "text",
    "id": "8kU862wQRz82",
    "tags": []
   },
   "source": [
    "**<font color='teal'>Print the null values for each column in the dataframe.</font>**"
   ]
  },
  {
   "cell_type": "code",
   "execution_count": 22,
   "metadata": {
    "colab": {},
    "colab_type": "code",
    "id": "ZV2mKhf_Rz82"
   },
   "outputs": [
    {
     "data": {
      "text/plain": [
       "Survived      0\n",
       "Pclass        0\n",
       "Age           0\n",
       "SibSp         0\n",
       "Parch         0\n",
       "Fare          0\n",
       "Sex_female    0\n",
       "Sex_male      0\n",
       "Embarked_C    0\n",
       "Embarked_Q    0\n",
       "Embarked_S    0\n",
       "dtype: int64"
      ]
     },
     "execution_count": 22,
     "metadata": {},
     "output_type": "execute_result"
    }
   ],
   "source": [
    "df.isnull().sum()"
   ]
  },
  {
   "cell_type": "markdown",
   "metadata": {
    "colab_type": "text",
    "id": "zsDK9CraRz85",
    "tags": []
   },
   "source": [
    "**<font color='teal'>Create the X and y matrices from the dataframe, where y = df.Survived </font>**"
   ]
  },
  {
   "cell_type": "code",
   "execution_count": 25,
   "metadata": {
    "colab": {},
    "colab_type": "code",
    "id": "dle4w3vRRz85"
   },
   "outputs": [],
   "source": [
    "X = df.drop('Survived',axis=1)\n",
    "y = df.Survived"
   ]
  },
  {
   "cell_type": "markdown",
   "metadata": {
    "colab_type": "text",
    "id": "lT_yoTjtRz88",
    "tags": []
   },
   "source": [
    "**<font color='teal'>Apply the standard scaler to the X matrix.</font>**"
   ]
  },
  {
   "cell_type": "code",
   "execution_count": 26,
   "metadata": {
    "colab": {},
    "colab_type": "code",
    "id": "c8VoJndnRz88"
   },
   "outputs": [],
   "source": [
    "scaler = preprocessing.StandardScaler().fit(X)\n",
    "X_scaled = scaler"
   ]
  },
  {
   "cell_type": "markdown",
   "metadata": {
    "colab_type": "text",
    "id": "-59l61rsRz9A",
    "tags": []
   },
   "source": [
    "**<font color='teal'>Split the X_scaled and y into 75/25 training and testing data subsets..</font>**"
   ]
  },
  {
   "cell_type": "code",
   "execution_count": 27,
   "metadata": {
    "colab": {},
    "colab_type": "code",
    "id": "rJZsUA0xRz9A"
   },
   "outputs": [],
   "source": [
    "from sklearn.model_selection import train_test_split\n",
    "X_train,X_test,y_train,y_test = train_test_split(X,y,test_size=0.75)"
   ]
  },
  {
   "cell_type": "markdown",
   "metadata": {
    "colab_type": "text",
    "id": "wTZIpc_KRz9C",
    "tags": []
   },
   "source": [
    "**<font color='teal'>Run the cell below to test multiple learning rates in your gradient boosting classifier.</font>**"
   ]
  },
  {
   "cell_type": "code",
   "execution_count": 28,
   "metadata": {
    "colab": {},
    "colab_type": "code",
    "id": "4ipqTcZPRz9D"
   },
   "outputs": [
    {
     "name": "stdout",
     "output_type": "stream",
     "text": [
      "Learning rate:  0.05\n",
      "Accuracy score (training): 0.689\n",
      "Accuracy score (validation): 0.696\n",
      "\n",
      "Learning rate:  0.1\n",
      "Accuracy score (training): 0.822\n",
      "Accuracy score (validation): 0.739\n",
      "\n",
      "Learning rate:  0.25\n",
      "Accuracy score (training): 0.911\n",
      "Accuracy score (validation): 0.746\n",
      "\n",
      "Learning rate:  0.5\n",
      "Accuracy score (training): 0.956\n",
      "Accuracy score (validation): 0.732\n",
      "\n",
      "Learning rate:  0.75\n",
      "Accuracy score (training): 1.000\n",
      "Accuracy score (validation): 0.739\n",
      "\n",
      "Learning rate:  1\n",
      "Accuracy score (training): 0.978\n",
      "Accuracy score (validation): 0.710\n",
      "\n"
     ]
    }
   ],
   "source": [
    "learning_rates = [0.05, 0.1, 0.25, 0.5, 0.75, 1]\n",
    "for learning_rate in learning_rates:\n",
    "    gb = GradientBoostingClassifier(n_estimators=20, learning_rate = learning_rate, max_features=2, max_depth = 2, random_state = 0)\n",
    "    gb.fit(X_train, y_train)\n",
    "    print(\"Learning rate: \", learning_rate)\n",
    "    print(\"Accuracy score (training): {0:.3f}\".format(gb.score(X_train, y_train)))\n",
    "    print(\"Accuracy score (validation): {0:.3f}\".format(gb.score(X_test, y_test)))\n",
    "    print()"
   ]
  },
  {
   "cell_type": "markdown",
   "metadata": {},
   "source": [
    "**<font color='teal'>Apply the best learning rate to the model fit and predict on the testing set. Print out the confusion matrix and the classification report to review the model performance.</font>**"
   ]
  },
  {
   "cell_type": "code",
   "execution_count": 32,
   "metadata": {},
   "outputs": [
    {
     "name": "stdout",
     "output_type": "stream",
     "text": [
      "[[ 0 43]\n",
      " [ 0 95]]\n",
      "              precision    recall  f1-score   support\n",
      "\n",
      "           0       0.00      0.00      0.00        43\n",
      "           1       0.69      1.00      0.82        95\n",
      "\n",
      "    accuracy                           0.69       138\n",
      "   macro avg       0.34      0.50      0.41       138\n",
      "weighted avg       0.47      0.69      0.56       138\n",
      "\n"
     ]
    },
    {
     "name": "stderr",
     "output_type": "stream",
     "text": [
      "/Users/sharanaravindh/anaconda3/lib/python3.10/site-packages/sklearn/metrics/_classification.py:1344: UndefinedMetricWarning: Precision and F-score are ill-defined and being set to 0.0 in labels with no predicted samples. Use `zero_division` parameter to control this behavior.\n",
      "  _warn_prf(average, modifier, msg_start, len(result))\n",
      "/Users/sharanaravindh/anaconda3/lib/python3.10/site-packages/sklearn/metrics/_classification.py:1344: UndefinedMetricWarning: Precision and F-score are ill-defined and being set to 0.0 in labels with no predicted samples. Use `zero_division` parameter to control this behavior.\n",
      "  _warn_prf(average, modifier, msg_start, len(result))\n",
      "/Users/sharanaravindh/anaconda3/lib/python3.10/site-packages/sklearn/metrics/_classification.py:1344: UndefinedMetricWarning: Precision and F-score are ill-defined and being set to 0.0 in labels with no predicted samples. Use `zero_division` parameter to control this behavior.\n",
      "  _warn_prf(average, modifier, msg_start, len(result))\n"
     ]
    }
   ],
   "source": [
    "best_model = GradientBoostingClassifier(n_estimators=20, learning_rate = 0.025, max_features=2, max_depth = 2, random_state = 0)\n",
    "best_model.fit(X_train,y_train)\n",
    "y_pred = best_model.predict(X_test)\n",
    "confusion = confusion_matrix(y_test, y_pred)\n",
    "classification = classification_report(y_test,y_pred)\n",
    "print(confusion)\n",
    "print(classification)"
   ]
  },
  {
   "cell_type": "markdown",
   "metadata": {
    "colab_type": "text",
    "id": "ezq61Ov2Rz9G",
    "tags": []
   },
   "source": [
    "**<font color='teal'>Calculate the ROC for the model as well.</font>**"
   ]
  },
  {
   "cell_type": "code",
   "execution_count": 35,
   "metadata": {
    "colab": {},
    "colab_type": "code",
    "id": "u1TGKEqCRz9L"
   },
   "outputs": [
    {
     "data": {
      "image/png": "[encoded data removed]",
      "text/plain": [
       "<Figure size 800x600 with 1 Axes>"
      ]
     },
     "metadata": {},
     "output_type": "display_data"
    }
   ],
   "source": [
    "y_pred_probs = best_model.predict_proba(X_test)[:, 1]\n",
    "fpr, tpr, thresholds = roc_curve(y_test, y_pred_probs)\n",
    "roc_auc = auc(fpr, tpr)\n",
    "plt.figure(figsize=(8, 6))\n",
    "plt.plot(fpr, tpr, color='darkorange', lw=2, label=f'ROC curve (area = {roc_auc:.2f})')\n",
    "plt.plot([0, 1], [0, 1], color='navy', lw=2, linestyle='--')\n",
    "plt.xlim([0.0, 1.0])\n",
    "plt.ylim([0.0, 1.05])\n",
    "plt.xlabel('False Positive Rate')\n",
    "plt.ylabel('True Positive Rate')\n",
    "plt.title('Receiver Operating Characteristic (ROC) Curve')\n",
    "plt.legend(loc='lower right')\n",
    "plt.show()"
   ]
  }
 ],
 "metadata": {
  "colab": {
   "name": "Gradient_Boosting_student.ipynb",
   "provenance": []
  },
  "deepnote_execution_queue": [],
  "hide_input": false,
  "kernelspec": {
   "display_name": "Python 3 (ipykernel)",
   "language": "python",
   "name": "python3"
  },
  "language_info": {
   "codemirror_mode": {
    "name": "ipython",
    "version": 3
   },
   "file_extension": ".py",
   "mimetype": "text/x-python",
   "name": "python",
   "nbconvert_exporter": "python",
   "pygments_lexer": "ipython3",
   "version": "3.10.9"
  },
  "toc": {
   "colors": {
    "hover_highlight": "#DAA520",
    "running_highlight": "#FF0000",
    "selected_highlight": "#FFD700"
   },
   "moveMenuLeft": true,
   "nav_menu": {
    "height": "78px",
    "width": "252px"
   },
   "navigate_menu": true,
   "number_sections": true,
   "sideBar": true,
   "threshold": 4,
   "toc_cell": false,
   "toc_section_display": "block",
   "toc_window_display": false
  }
 },
 "nbformat": 4,
 "nbformat_minor": 4
}
